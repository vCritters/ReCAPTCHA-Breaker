{
 "cells": [
  {
   "cell_type": "code",
   "execution_count": 14,
   "metadata": {},
   "outputs": [
    {
     "name": "stderr",
     "output_type": "stream",
     "text": [
      "Using TensorFlow backend.\n"
     ]
    }
   ],
   "source": [
    "import os\n",
    "from keras.preprocessing.image import ImageDataGenerator"
   ]
  },
  {
   "cell_type": "code",
   "execution_count": 15,
   "metadata": {},
   "outputs": [],
   "source": [
    "dataset_path = '/Users/SmashBros/Documents/GitHub/ReCAPTCHA-Breaker/datasets'\n",
    "CarData_folder = dataset_path + '/CarData'\n",
    "\n",
    "# train folder\n",
    "train_folder = CarData_folder + '/TrainImages'\n",
    "\n",
    "# split training data into negative and postive folders\n",
    "# negative = not a car\n",
    "# positive = is a car\n",
    "negative_folder = train_folder + '/negative/'\n",
    "positive_folder = train_folder + '/postive/'\n",
    "\n",
    "# test folder\n",
    "test_folder = CarData_folder + '/TestImages'"
   ]
  },
  {
   "cell_type": "code",
   "execution_count": 16,
   "metadata": {},
   "outputs": [
    {
     "name": "stdout",
     "output_type": "stream",
     "text": [
      "Found 0 images belonging to 2 classes.\n",
      "Found 0 images belonging to 0 classes.\n"
     ]
    }
   ],
   "source": [
    "train_datagen = ImageDataGenerator(rescale            = 1/255,\n",
    "                                   shear_range        = 0.2,\n",
    "                                   zoom_range         = 0.2,\n",
    "                                   horizontal_flip    = True,\n",
    "                                   rotation_range     = 40,\n",
    "                                   width_shift_range  = 0.2,\n",
    "                                   height_shift_range = 0.2)\n",
    "\n",
    "test_datagen = ImageDataGenerator(rescale = 1/255)\n",
    "\n",
    "training_set = train_datagen.flow_from_directory(train_folder,\n",
    "                                   target_size = (64, 64),\n",
    "                                   batch_size  = 32,\n",
    "                                   class_mode  = 'binary')\n",
    "\n",
    "\n",
    "test_set = test_datagen.flow_from_directory(test_folder,\n",
    "                                   target_size = (64, 64),\n",
    "                                   batch_size = 32,\n",
    "                                   class_mode = 'binary')"
   ]
  },
  {
   "cell_type": "code",
   "execution_count": null,
   "metadata": {},
   "outputs": [],
   "source": []
  }
 ],
 "metadata": {
  "kernelspec": {
   "display_name": "Python 3",
   "language": "python",
   "name": "python3"
  },
  "language_info": {
   "codemirror_mode": {
    "name": "ipython",
    "version": 3
   },
   "file_extension": ".py",
   "mimetype": "text/x-python",
   "name": "python",
   "nbconvert_exporter": "python",
   "pygments_lexer": "ipython3",
   "version": "3.6.4"
  }
 },
 "nbformat": 4,
 "nbformat_minor": 2
}
